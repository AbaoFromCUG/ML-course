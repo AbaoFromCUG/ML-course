{
 "cells": [
  {
   "cell_type": "markdown",
   "metadata": {},
   "source": [
    "1.引入程序中依赖的包。"
   ]
  },
  {
   "cell_type": "code",
   "execution_count": 15,
   "metadata": {
    "collapsed": true
   },
   "outputs": [],
   "source": [
    "import numpy as np\n",
    "import pandas as pd\n",
    "import matplotlib.pyplot as plt\n",
    "from sklearn.linear_model import LogisticRegression"
   ]
  },
  {
   "cell_type": "markdown",
   "metadata": {},
   "source": [
    "2.加载数据，并浏览数据集。我们使用pandas.read_csv加载数据，大家可以学习一下DataFrame的相关操作。  \n",
    "如果下载失败，可能是网络原因，你可以手动下载数据，将URL替换为本地路径即可。"
   ]
  },
  {
   "cell_type": "code",
   "execution_count": 4,
   "metadata": {},
   "outputs": [
    {
     "name": "stdout",
     "output_type": "stream",
     "text": [
      "          0          1  2\n",
      "0 -0.017612  14.053064  0\n",
      "1 -1.395634   4.662541  1\n",
      "2 -0.752157   6.538620  0\n",
      "3 -1.322371   7.152853  0\n",
      "4  0.423363  11.054677  0\n"
     ]
    }
   ],
   "source": [
    "df = pd.read_csv('https://raw.githubusercontent.com/qikunlun/ML-course/master/data/testSet-LR.csv', header=None)\n",
    "print(df.head())"
   ]
  },
  {
   "cell_type": "markdown",
   "metadata": {},
   "source": [
    "3.准备特征数据集和预测标签。本例采用前两列做为样本特征，最后一列做为类别标签。"
   ]
  },
  {
   "cell_type": "code",
   "execution_count": 19,
   "metadata": {},
   "outputs": [
    {
     "name": "stdout",
     "output_type": "stream",
     "text": [
      "The training accuracy is 0.96\n"
     ]
    }
   ],
   "source": [
    "train_X = df.iloc[:, [0, 1]].values\n",
    "train_y = df.iloc[:, [2]].values.ravel()\n",
    "logistic = LogisticRegression()\n",
    "logistic.fit(train_X, train_y)\n",
    "print('The training accuracy is %.2f'% logistic.score(train_X, train_y))"
   ]
  },
  {
   "cell_type": "markdown",
   "metadata": {},
   "source": [
    "4.画出LogisticRegress的分类结果，以及最终的回归分类决策线。"
   ]
  },
  {
   "cell_type": "code",
   "execution_count": 48,
   "metadata": {},
   "outputs": [
    {
     "data": {
      "image/png": "[encoded data removed]",
      "text/plain": [
       "<matplotlib.figure.Figure at 0x2aa5c22d588>"
      ]
     },
     "metadata": {},
     "output_type": "display_data"
    }
   ],
   "source": [
    "label = logistic.predict(train_X)\n",
    "plt.scatter(train_X[label==0, 0],train_X[label==0, 1], color='blue')\n",
    "plt.scatter(train_X[label==1, 0],train_X[label==1, 1], color='red')\n",
    "\n",
    "minx, maxx = np.min(train_X[:, 0]), np.max(train_X[:, 0])\n",
    "# 求解决策网线的斜率和截距\n",
    "k, b = -logistic.coef_[0,0]/logistic.coef_[0,1], -logistic.intercept_/logistic.coef_[0,1]\n",
    "plt.plot((minx, maxx), (minx*k+b, maxx*k+b))\n",
    "plt.xticks(())\n",
    "plt.yticks(())\n",
    "plt.show()"
   ]
  }
 ],
 "metadata": {
  "kernelspec": {
   "display_name": "Python 3",
   "language": "python",
   "name": "python3"
  },
  "language_info": {
   "codemirror_mode": {
    "name": "ipython",
    "version": 3
   },
   "file_extension": ".py",
   "mimetype": "text/x-python",
   "name": "python",
   "nbconvert_exporter": "python",
   "pygments_lexer": "ipython3",
   "version": "3.6.2"
  }
 },
 "nbformat": 4,
 "nbformat_minor": 2
}
